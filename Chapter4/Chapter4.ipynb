{
 "cells": [
  {
   "cell_type": "code",
   "execution_count": null,
   "id": "75933b43-f2a0-4919-88f5-dd2d2b04c4f7",
   "metadata": {},
   "outputs": [],
   "source": [
    "#\n",
    "# Author: Manny Alvarez\n",
    "#\n",
    "# Network and Complexity \n",
    "# \n",
    "# Downey Chapter 4 Exercises \n",
    "# \n",
    "#\n"
   ]
  },
  {
   "cell_type": "code",
   "execution_count": 2,
   "id": "2614762c-5741-4484-8128-d3ccc8e622db",
   "metadata": {},
   "outputs": [],
   "source": [
    "### Packages \n",
    "from os.path import basename, exists\n",
    "\n",
    "def download(url):\n",
    "    filename = basename(url)\n",
    "    if not exists(filename):\n",
    "        from urllib.request import urlretrieve\n",
    "        local, _ = urlretrieve(url, filename)\n",
    "        print('Downloaded ' + local)\n",
    "        \n",
    "download('https://github.com/AllenDowney/ThinkComplexity2/raw/master/notebooks/utils.py')\n",
    "import matplotlib.pyplot as plt\n",
    "import networkx as nx\n",
    "import numpy as np\n",
    "import seaborn as sns\n",
    "\n",
    "from utils import decorate, savefig\n",
    "\n",
    "# Set the random seed so the notebook \n",
    "# produces the same results every time.\n",
    "np.random.seed(17)\n"
   ]
  },
  {
   "cell_type": "code",
   "execution_count": null,
   "id": "2d283a6a-741e-4b19-be43-4098cea18e8a",
   "metadata": {},
   "outputs": [
    {
     "ename": "NameError",
     "evalue": "name 'thinkcomplexity' is not defined",
     "output_type": "error",
     "traceback": [
      "\u001b[1;31m---------------------------------------------------------------------------\u001b[0m",
      "\u001b[1;31mNameError\u001b[0m                                 Traceback (most recent call last)",
      "\u001b[1;32m~\\AppData\\Local\\Temp/ipykernel_4132/3397135472.py\u001b[0m in \u001b[0;36m<module>\u001b[1;34m\u001b[0m\n\u001b[0;32m     64\u001b[0m \u001b[1;31m##\u001b[0m\u001b[1;33m\u001b[0m\u001b[1;33m\u001b[0m\u001b[0m\n\u001b[0;32m     65\u001b[0m \u001b[1;33m\u001b[0m\u001b[0m\n\u001b[1;32m---> 66\u001b[1;33m \u001b[0mread_actor_network\u001b[0m\u001b[1;33m(\u001b[0m\u001b[1;34m'actor.dat.gz'\u001b[0m\u001b[1;33m,\u001b[0m \u001b[0mn\u001b[0m\u001b[1;33m=\u001b[0m\u001b[1;36m1000\u001b[0m\u001b[1;33m)\u001b[0m\u001b[1;33m\u001b[0m\u001b[1;33m\u001b[0m\u001b[0m\n\u001b[0m\u001b[0;32m     67\u001b[0m \u001b[0mlen\u001b[0m\u001b[1;33m(\u001b[0m\u001b[0mactors\u001b[0m\u001b[1;33m)\u001b[0m\u001b[1;33m\u001b[0m\u001b[1;33m\u001b[0m\u001b[0m\n",
      "\u001b[1;32m~\\AppData\\Local\\Temp/ipykernel_4132/3397135472.py\u001b[0m in \u001b[0;36mread_actor_network\u001b[1;34m(filename, n)\u001b[0m\n\u001b[0;32m     56\u001b[0m         \u001b[1;32mfor\u001b[0m \u001b[0mi\u001b[0m\u001b[1;33m,\u001b[0m \u001b[0mline\u001b[0m \u001b[1;32min\u001b[0m \u001b[0menumerate\u001b[0m\u001b[1;33m(\u001b[0m\u001b[0mf\u001b[0m\u001b[1;33m)\u001b[0m\u001b[1;33m:\u001b[0m\u001b[1;33m\u001b[0m\u001b[1;33m\u001b[0m\u001b[0m\n\u001b[0;32m     57\u001b[0m             \u001b[0mnodes\u001b[0m \u001b[1;33m=\u001b[0m \u001b[1;33m[\u001b[0m\u001b[0mint\u001b[0m\u001b[1;33m(\u001b[0m\u001b[0mx\u001b[0m\u001b[1;33m)\u001b[0m \u001b[1;32mfor\u001b[0m \u001b[0mx\u001b[0m \u001b[1;32min\u001b[0m \u001b[0mline\u001b[0m\u001b[1;33m.\u001b[0m\u001b[0msplit\u001b[0m\u001b[1;33m(\u001b[0m\u001b[1;33m)\u001b[0m\u001b[1;33m]\u001b[0m\u001b[1;33m\u001b[0m\u001b[1;33m\u001b[0m\u001b[0m\n\u001b[1;32m---> 58\u001b[1;33m             \u001b[0mG\u001b[0m\u001b[1;33m.\u001b[0m\u001b[0madd_edges_from\u001b[0m\u001b[1;33m(\u001b[0m\u001b[0mthinkcomplexity\u001b[0m\u001b[1;33m.\u001b[0m\u001b[0mall_pairs\u001b[0m\u001b[1;33m(\u001b[0m\u001b[0mnodes\u001b[0m\u001b[1;33m)\u001b[0m\u001b[1;33m)\u001b[0m\u001b[1;33m\u001b[0m\u001b[1;33m\u001b[0m\u001b[0m\n\u001b[0m\u001b[0;32m     59\u001b[0m             \u001b[1;32mif\u001b[0m \u001b[0mn\u001b[0m \u001b[1;32mand\u001b[0m \u001b[0mi\u001b[0m \u001b[1;33m>=\u001b[0m \u001b[0mn\u001b[0m\u001b[1;33m:\u001b[0m\u001b[1;33m\u001b[0m\u001b[1;33m\u001b[0m\u001b[0m\n\u001b[0;32m     60\u001b[0m                 \u001b[1;32mbreak\u001b[0m\u001b[1;33m\u001b[0m\u001b[1;33m\u001b[0m\u001b[0m\n",
      "\u001b[1;31mNameError\u001b[0m: name 'thinkcomplexity' is not defined"
     ]
    }
   ],
   "source": [
    "######### 4.1 ############\n",
    "\n",
    "'''\n",
    "Exercise 4.1 In Section 4.8 we discussed two explanations for the small\n",
    "world phenomenon, “weak ties” and “hubs”. Are these explanations compatible; that is, can they both be right? Which do you find more satisfying as an\n",
    "explanation, and why?\n",
    "'''\n",
    "\n",
    "'''\n",
    "Hubs are nodes with larger than average degrees that other nodes in the same network (e.g., think train station in NYC compared to somewhere in the middle of rural Kentucky). \n",
    "Strong clusters with weak ties, howevever, suggests that there is a larger connection between the nodes but these are relatively week (close friends verus merely aquintances would\n",
    "be a strong versus weak tie, respectively). Both can exist given that a node, say a person, can have more connections to other people compared to another person. In that same vein, that \n",
    "wide network can be a combination of weak and strong ties between nodes. Ultimately, the difference in connection strength is the deciding factor given that these may decide how other nodes\n",
    "act with each other compared to just having large number of connections.\n",
    "'''\n",
    "\n",
    "######### 4.2 ############\n",
    "\n",
    "'''\n",
    "NetworkX provides a function called powerlaw_cluster_graph\n",
    "that implements the ”Holme and Kim algorithm for growing graphs with powerlaw degree distribution and approximate average clustering”. Read the documentation of this function (http://thinkcomplex.com/hk) and see if you\n",
    "can use it to generate a graph that has the same number of nodes as the\n",
    "Facebook dataset, the same average degree, and the same clustering coefficient. How does the degree distribution in the model compare to the actual\n",
    "distribution?\n",
    "'''\n",
    "\n",
    "# download FB data and get use parameters \n",
    "\n",
    "def read_graph(filename):\n",
    "    G = nx.Graph()\n",
    "    array = np.loadtxt(filename, dtype=int)\n",
    "    G.add_edges_from(array)\n",
    "    return G\n",
    "\n",
    "\n",
    "fb = read_graph('facebook_combined.txt.gz')\n",
    "n = len(fb)\n",
    "m = len(fb.edges())\n",
    "k = int(round(m / n))\n",
    "\n",
    "##  Generate graph using powerlaw cluster graph\n",
    "\n",
    "HolmeKim = nx.powerlaw_cluster_graph(n, k, 1.0, seed=15)\n",
    "\n",
    "\n",
    "######### Exercise 4.3 #########\n",
    "\n",
    "## use function from book to read data \n",
    "download('https://github.com/AllenDowney/ThinkComplexity2/raw/master/data/actor.dat.gz')\n",
    "\n",
    "\n",
    "import gzip\n",
    "def read_actor_network(filename, n=None):\n",
    "    G = nx.Graph()\n",
    "    with gzip.open(filename) as f:\n",
    "        for i, line in enumerate(f):\n",
    "            nodes = [int(x) for x in line.split()]\n",
    "            G.add_edges_from(thinkcomplexity.all_pairs(nodes))\n",
    "            if n and i >= n:\n",
    "                break\n",
    "    return G\n",
    "\n"
   ]
  },
  {
   "cell_type": "code",
   "execution_count": null,
   "id": "6e865a9b-08d5-4d87-9533-a546e586f75f",
   "metadata": {},
   "outputs": [],
   "source": [
    "## Ended up looking up the answer\n",
    "\n",
    "''' \n",
    "Attempted to run the function and find the package 'thinkcomplexity' which I have scoureged the book for. I had attempt to see previous functions \n",
    "that work like add an edge from assignement 2 to no avail. I had also attempted to create a function to replace this but again no avail. Upon examining the answer, I found that I needed to\n",
    "generate all pairtrs of possible nodes and further evaluate the the graph using prebuilt function in the nx package. These ultimately showedthat this graph obeyed a power law on a log scale.\n",
    "'''\n",
    "\n",
    "\n",
    "\n"
   ]
  },
  {
   "cell_type": "code",
   "execution_count": null,
   "id": "6863cab4-109d-48ba-b4d8-1be73a003e36",
   "metadata": {},
   "outputs": [],
   "source": []
  },
  {
   "cell_type": "code",
   "execution_count": 15,
   "id": "af468db5-bed3-4ea4-89c7-eb6257b3f319",
   "metadata": {},
   "outputs": [
    {
     "name": "stdout",
     "output_type": "stream",
     "text": [
      "Downloaded actor.dat.gz\n"
     ]
    }
   ],
   "source": []
  },
  {
   "cell_type": "code",
   "execution_count": null,
   "id": "2efe35cf-5b10-4adb-97fd-0cfc65cc204b",
   "metadata": {},
   "outputs": [],
   "source": []
  }
 ],
 "metadata": {
  "kernelspec": {
   "display_name": "Python 3 (ipykernel)",
   "language": "python",
   "name": "python3"
  },
  "language_info": {
   "codemirror_mode": {
    "name": "ipython",
    "version": 3
   },
   "file_extension": ".py",
   "mimetype": "text/x-python",
   "name": "python",
   "nbconvert_exporter": "python",
   "pygments_lexer": "ipython3",
   "version": "3.9.7"
  }
 },
 "nbformat": 4,
 "nbformat_minor": 5
}
