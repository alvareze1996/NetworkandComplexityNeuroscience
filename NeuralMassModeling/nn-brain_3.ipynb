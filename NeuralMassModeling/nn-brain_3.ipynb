{
 "cells": [
  {
   "cell_type": "code",
   "execution_count": 4,
   "metadata": {
    "colab": {
     "base_uri": "https://localhost:8080/"
    },
    "id": "TQHxbmoPIFr3",
    "outputId": "0b7f24ce-2ccc-4d99-ab83-2b4e1e1dcdeb"
   },
   "outputs": [
    {
     "name": "stdout",
     "output_type": "stream",
     "text": [
      "Cloning into 'neurogym'...\n",
      "remote: Enumerating objects: 10817, done.\u001b[K\n",
      "remote: Counting objects: 100% (79/79), done.\u001b[K\n",
      "remote: Compressing objects: 100% (38/38), done.\u001b[K\n",
      "remote: Total 10817 (delta 46), reused 68 (delta 41), pack-reused 10738\u001b[K\n",
      "Receiving objects: 100% (10817/10817), 8.14 MiB | 21.10 MiB/s, done.\n",
      "Resolving deltas: 100% (8171/8171), done.\n",
      "/content/neurogym\n",
      "Obtaining file:///content/neurogym\n",
      "Requirement already satisfied: numpy in /usr/local/lib/python3.7/dist-packages (from neurogym==0.0.1) (1.21.6)\n",
      "Requirement already satisfied: gym in /usr/local/lib/python3.7/dist-packages (from neurogym==0.0.1) (0.17.3)\n",
      "Requirement already satisfied: matplotlib in /usr/local/lib/python3.7/dist-packages (from neurogym==0.0.1) (3.2.2)\n",
      "Requirement already satisfied: cloudpickle<1.7.0,>=1.2.0 in /usr/local/lib/python3.7/dist-packages (from gym->neurogym==0.0.1) (1.3.0)\n",
      "Requirement already satisfied: scipy in /usr/local/lib/python3.7/dist-packages (from gym->neurogym==0.0.1) (1.4.1)\n",
      "Requirement already satisfied: pyglet<=1.5.0,>=1.4.0 in /usr/local/lib/python3.7/dist-packages (from gym->neurogym==0.0.1) (1.5.0)\n",
      "Requirement already satisfied: future in /usr/local/lib/python3.7/dist-packages (from pyglet<=1.5.0,>=1.4.0->gym->neurogym==0.0.1) (0.16.0)\n",
      "Requirement already satisfied: cycler>=0.10 in /usr/local/lib/python3.7/dist-packages (from matplotlib->neurogym==0.0.1) (0.11.0)\n",
      "Requirement already satisfied: kiwisolver>=1.0.1 in /usr/local/lib/python3.7/dist-packages (from matplotlib->neurogym==0.0.1) (1.4.2)\n",
      "Requirement already satisfied: pyparsing!=2.0.4,!=2.1.2,!=2.1.6,>=2.0.1 in /usr/local/lib/python3.7/dist-packages (from matplotlib->neurogym==0.0.1) (3.0.8)\n",
      "Requirement already satisfied: python-dateutil>=2.1 in /usr/local/lib/python3.7/dist-packages (from matplotlib->neurogym==0.0.1) (2.8.2)\n",
      "Requirement already satisfied: typing-extensions in /usr/local/lib/python3.7/dist-packages (from kiwisolver>=1.0.1->matplotlib->neurogym==0.0.1) (4.2.0)\n",
      "Requirement already satisfied: six>=1.5 in /usr/local/lib/python3.7/dist-packages (from python-dateutil>=2.1->matplotlib->neurogym==0.0.1) (1.15.0)\n",
      "Installing collected packages: neurogym\n",
      "  Running setup.py develop for neurogym\n",
      "Successfully installed neurogym-0.0.1\n"
     ]
    }
   ],
   "source": [
    "# # If on Google Colab, uncomment to install neurogym to use cognitive tasks\n",
    "! git clone https://github.com/neurogym/neurogym.git\n",
    "%cd neurogym/\n",
    "! pip install -e ."
   ]
  },
  {
   "cell_type": "code",
   "execution_count": 5,
   "metadata": {
    "colab": {
     "base_uri": "https://localhost:8080/",
     "height": 396
    },
    "id": "K-x_gYuwIFr7",
    "outputId": "f3456c37-9745-4f0f-c001-27cbd2efae73"
   },
   "outputs": [
    {
     "name": "stderr",
     "output_type": "stream",
     "text": [
      "findfont: Font family ['arial'] not found. Falling back to DejaVu Sans.\n",
      "findfont: Font family ['arial'] not found. Falling back to DejaVu Sans.\n"
     ]
    },
    {
     "data": {
      "image/png": "[encoded data removed]",
      "text/plain": [
       "<Figure size 360x345.6 with 4 Axes>"
      ]
     },
     "metadata": {
      "needs_background": "light"
     },
     "output_type": "display_data"
    }
   ],
   "source": [
    "import neurogym as ngym\n",
    "\n",
    "# Environment\n",
    "task = 'PerceptualDecisionMaking-v0'\n",
    "kwargs = {'dt': 100}\n",
    "seq_len = 100\n",
    "\n",
    "# Make supervised dataset\n",
    "dataset = ngym.Dataset(task, env_kwargs=kwargs, batch_size=16,\n",
    "                       seq_len=seq_len)\n",
    "\n",
    "# A sample environment from dataset\n",
    "env = dataset.env\n",
    "# Visualize the environment with 2 sample trials\n",
    "_ = ngym.utils.plot_env(env, num_trials=2)\n",
    "\n",
    "# Network input and output size\n",
    "input_size = env.observation_space.shape[0]\n",
    "output_size = env.action_space.n"
   ]
  },
  {
   "cell_type": "code",
   "execution_count": 6,
   "metadata": {
    "id": "46WdYWNjIFsr"
   },
   "outputs": [],
   "source": [
    "# Define networks\n",
    "import torch\n",
    "import torch.nn as nn\n",
    "from torch.nn import init\n",
    "from torch.nn import functional as F\n",
    "import math\n",
    "    \n",
    "\n",
    "class CTRNN(nn.Module):\n",
    "    \"\"\"Continuous-time RNN.\n",
    "\n",
    "    Args:\n",
    "        input_size: Number of input neurons\n",
    "        hidden_size: Number of hidden neurons\n",
    "\n",
    "    Inputs:\n",
    "        input: (seq_len, batch, input_size), network input\n",
    "        hidden: (batch, hidden_size), initial hidden activity\n",
    "    \"\"\"\n",
    "\n",
    "    def __init__(self, input_size, hidden_size, dt=None, **kwargs):\n",
    "        super().__init__()\n",
    "        self.input_size = input_size\n",
    "        self.hidden_size = hidden_size\n",
    "        self.tau = 100\n",
    "        if dt is None:\n",
    "            alpha = 1\n",
    "        else:\n",
    "            alpha = dt / self.tau\n",
    "        self.alpha = alpha\n",
    "        self.oneminusalpha = 1 - alpha\n",
    "\n",
    "        self.input2h = nn.Linear(input_size, hidden_size)\n",
    "        self.h2h = nn.Linear(hidden_size, hidden_size)\n",
    "\n",
    "    def init_hidden(self, input_shape):\n",
    "        batch_size = input_shape[1]\n",
    "        return torch.zeros(batch_size, self.hidden_size)\n",
    "\n",
    "    def recurrence(self, input, hidden):\n",
    "        \"\"\"Recurrence helper.\"\"\"\n",
    "        pre_activation = self.input2h(input) + self.h2h(hidden)\n",
    "        h_new = torch.relu(hidden * self.oneminusalpha +\n",
    "                           pre_activation * self.alpha)\n",
    "        return h_new\n",
    "\n",
    "    def forward(self, input, hidden=None):\n",
    "        \"\"\"Propogate input through the network.\"\"\"\n",
    "        if hidden is None:\n",
    "            hidden = self.init_hidden(input.shape).to(input.device)\n",
    "\n",
    "        output = []\n",
    "        steps = range(input.size(0))\n",
    "        for i in steps:\n",
    "            hidden = self.recurrence(input[i], hidden)\n",
    "            output.append(hidden)\n",
    "\n",
    "        output = torch.stack(output, dim=0)\n",
    "        return output, hidden\n",
    "\n",
    "\n",
    "class RNNNet(nn.Module):\n",
    "    \"\"\"Recurrent network model.\n",
    "\n",
    "    Args:\n",
    "        input_size: int, input size\n",
    "        hidden_size: int, hidden size\n",
    "        output_size: int, output size\n",
    "        rnn: str, type of RNN, lstm, rnn, ctrnn, or eirnn\n",
    "    \"\"\"\n",
    "    def __init__(self, input_size, hidden_size, output_size, **kwargs):\n",
    "        super().__init__()\n",
    "\n",
    "        # Continuous time RNN\n",
    "        self.rnn = CTRNN(input_size, hidden_size, **kwargs)\n",
    "        self.fc = nn.Linear(hidden_size, output_size)\n",
    "\n",
    "    def forward(self, x):\n",
    "        rnn_activity, _ = self.rnn(x)\n",
    "        out = self.fc(rnn_activity)\n",
    "        return out, rnn_activity"
   ]
  },
  {
   "cell_type": "code",
   "execution_count": 7,
   "metadata": {
    "colab": {
     "base_uri": "https://localhost:8080/"
    },
    "id": "9VCAGM7cIFsv",
    "outputId": "c9c8b05e-4b2b-4b62-e115-7f88a58fad63"
   },
   "outputs": [
    {
     "name": "stdout",
     "output_type": "stream",
     "text": [
      "RNNNet(\n",
      "  (rnn): CTRNN(\n",
      "    (input2h): Linear(in_features=3, out_features=64, bias=True)\n",
      "    (h2h): Linear(in_features=64, out_features=64, bias=True)\n",
      "  )\n",
      "  (fc): Linear(in_features=64, out_features=3, bias=True)\n",
      ")\n",
      "Step 100, Loss 0.0770\n",
      "Step 200, Loss 0.0234\n",
      "Step 300, Loss 0.0167\n",
      "Step 400, Loss 0.0142\n",
      "Step 500, Loss 0.0129\n",
      "Step 600, Loss 0.0132\n",
      "Step 700, Loss 0.0129\n",
      "Step 800, Loss 0.0112\n",
      "Step 900, Loss 0.0151\n",
      "Step 1000, Loss 0.0120\n"
     ]
    }
   ],
   "source": [
    "import torch.optim as optim\n",
    "\n",
    "# Instantiate the network and print information\n",
    "hidden_size = 64\n",
    "net = RNNNet(input_size=input_size, hidden_size=hidden_size,\n",
    "             output_size=output_size, dt=env.dt)\n",
    "print(net)\n",
    "\n",
    "# Use Adam optimizer\n",
    "optimizer = optim.Adam(net.parameters(), lr=0.01)\n",
    "criterion = nn.CrossEntropyLoss()\n",
    "\n",
    "running_loss = 0\n",
    "running_acc = 0\n",
    "for i in range(1000):\n",
    "    inputs, labels = dataset()\n",
    "    inputs = torch.from_numpy(inputs).type(torch.float)\n",
    "    labels = torch.from_numpy(labels.flatten()).type(torch.long)\n",
    "\n",
    "    # in your training loop:\n",
    "    optimizer.zero_grad()   # zero the gradient buffers\n",
    "    output, _ = net(inputs)\n",
    "    output = output.view(-1, output_size)\n",
    "    loss = criterion(output, labels)\n",
    "    loss.backward()\n",
    "    optimizer.step()    # Does the update\n",
    "\n",
    "    running_loss += loss.item()\n",
    "    if i % 100 == 99:\n",
    "        running_loss /= 100\n",
    "        print('Step {}, Loss {:0.4f}'.format(i+1, running_loss))\n",
    "        running_loss = 0"
   ]
  },
  {
   "cell_type": "code",
   "execution_count": 8,
   "metadata": {
    "colab": {
     "base_uri": "https://localhost:8080/"
    },
    "id": "HcllTOJxIFs6",
    "outputId": "2d0e3db8-c48a-4039-c93c-5e03e339ab40"
   },
   "outputs": [
    {
     "name": "stdout",
     "output_type": "stream",
     "text": [
      "Shape of the neural activity: (Time points, Neurons):  (2200, 64)\n",
      "Trial  0 {'ground_truth': 1, 'coh': 6.4}\n",
      "Trial  1 {'ground_truth': 0, 'coh': 0.0}\n",
      "Trial  2 {'ground_truth': 1, 'coh': 51.2}\n",
      "Trial  3 {'ground_truth': 1, 'coh': 25.6}\n",
      "Trial  4 {'ground_truth': 1, 'coh': 25.6}\n"
     ]
    }
   ],
   "source": [
    "import numpy as np\n",
    "env.reset(no_step=True)\n",
    "perf = 0\n",
    "num_trial = 100\n",
    "activity_dict = {}\n",
    "trial_infos = {}\n",
    "for i in range(num_trial):\n",
    "    env.new_trial()\n",
    "    ob, gt = env.ob, env.gt\n",
    "    inputs = torch.from_numpy(ob[:, np.newaxis, :]).type(torch.float)\n",
    "    action_pred, rnn_activity = net(inputs)\n",
    "    rnn_activity = rnn_activity[:, 0, :].detach().numpy()\n",
    "    activity_dict[i] = rnn_activity\n",
    "    trial_infos[i] = env.trial\n",
    "    \n",
    "# Concatenate activity for PCA\n",
    "activity = np.concatenate(list(activity_dict[i] for i in range(num_trial)), axis=0)\n",
    "print('Shape of the neural activity: (Time points, Neurons): ', activity.shape)\n",
    "\n",
    "# Print trial informations\n",
    "for i in range(5):\n",
    "    print('Trial ', i, trial_infos[i])"
   ]
  },
  {
   "cell_type": "code",
   "execution_count": 9,
   "metadata": {
    "colab": {
     "base_uri": "https://localhost:8080/"
    },
    "id": "HUeYOzf2IFs8",
    "outputId": "47674175-014e-466a-ad1d-8b685b637959"
   },
   "outputs": [
    {
     "data": {
      "text/plain": [
       "PCA(n_components=2)"
      ]
     },
     "execution_count": 9,
     "metadata": {},
     "output_type": "execute_result"
    }
   ],
   "source": [
    "# Compute PCA and visualize\n",
    "from sklearn.decomposition import PCA\n",
    "\n",
    "pca = PCA(n_components=2)\n",
    "pca.fit(activity)\n",
    "# print('Shape of the projected activity: (Time points, PCs): ', activity_pc.shape)"
   ]
  },
  {
   "cell_type": "code",
   "execution_count": 10,
   "metadata": {
    "colab": {
     "base_uri": "https://localhost:8080/",
     "height": 234
    },
    "id": "Hd3RKiwuIFs-",
    "outputId": "6b402004-7662-4bb0-bf98-d503290c7f36"
   },
   "outputs": [
    {
     "data": {
      "text/plain": [
       "Text(0, 0.5, 'PC 2')"
      ]
     },
     "execution_count": 10,
     "metadata": {},
     "output_type": "execute_result"
    },
    {
     "data": {
      "image/png": "[encoded data removed]",
      "text/plain": [
       "<Figure size 432x216 with 2 Axes>"
      ]
     },
     "metadata": {
      "needs_background": "light"
     },
     "output_type": "display_data"
    }
   ],
   "source": [
    "import matplotlib.pyplot as plt\n",
    "\n",
    "fig, (ax1, ax2) = plt.subplots(1, 2, sharey=True, sharex=True, figsize=(6, 3))\n",
    "for i in range(num_trial):\n",
    "    activity_pc = pca.transform(activity_dict[i])\n",
    "    trial = trial_infos[i]\n",
    "    color = 'red' if trial['ground_truth'] == 0 else 'blue'\n",
    "    _ = ax1.plot(activity_pc[:, 0], activity_pc[:, 1], 'o-', color=color)\n",
    "    \n",
    "    if i < 3:\n",
    "        _ = ax2.plot(activity_pc[:, 0], activity_pc[:, 1], 'o-', color=color)\n",
    "\n",
    "ax1.set_xlabel('PC 1')\n",
    "ax1.set_ylabel('PC 2')"
   ]
  },
  {
   "cell_type": "code",
   "execution_count": 11,
   "metadata": {
    "colab": {
     "base_uri": "https://localhost:8080/"
    },
    "id": "RInn9_ecIFtA",
    "outputId": "39a8d92b-c07b-452d-b8c9-adb1559e59d7",
    "scrolled": true
   },
   "outputs": [
    {
     "name": "stdout",
     "output_type": "stream",
     "text": [
      "Step 1000, Loss 2.9099\n",
      "Step 2000, Loss 0.7976\n",
      "Step 3000, Loss 0.2633\n",
      "Step 4000, Loss 0.0873\n",
      "Step 5000, Loss 0.0258\n",
      "Step 6000, Loss 0.0064\n",
      "Step 7000, Loss 0.0013\n",
      "Step 8000, Loss 0.0003\n",
      "Step 9000, Loss 0.0001\n",
      "Step 10000, Loss 0.0001\n"
     ]
    }
   ],
   "source": [
    "# Freeze for parameters in the recurrent network\n",
    "for param in net.parameters():\n",
    "    param.requires_grad = False\n",
    "\n",
    "batch_size = 64\n",
    "\n",
    "# Inputs should be the 0-coherence mean input during stimulus period\n",
    "# This will be task-specific\n",
    "input = np.tile([1, 0.5, 0.5], (batch_size, 1))\n",
    "input = torch.tensor(input, dtype=torch.float32)\n",
    "\n",
    "# Here hidden activity is the variable to be optimized\n",
    "# Initialized randomly for search in parallel (activity all positive)\n",
    "hidden = torch.tensor(np.random.rand(batch_size, hidden_size)*3,\n",
    "                      requires_grad=True, dtype=torch.float32)\n",
    "\n",
    "# Use Adam optimizer\n",
    "optimizer = optim.Adam([hidden], lr=0.001)\n",
    "criterion = nn.MSELoss()\n",
    "\n",
    "running_loss = 0\n",
    "for i in range(10000):\n",
    "    optimizer.zero_grad()   # zero the gradient buffers\n",
    "    \n",
    "    # Take the one-step recurrent function from the trained network\n",
    "    new_h = net.rnn.recurrence(input, hidden)\n",
    "    loss = criterion(new_h, hidden)\n",
    "    loss.backward()\n",
    "    optimizer.step()    # Does the update\n",
    "\n",
    "    running_loss += loss.item()\n",
    "    if i % 1000 == 999:\n",
    "        running_loss /= 1000\n",
    "        print('Step {}, Loss {:0.4f}'.format(i+1, running_loss))\n",
    "        running_loss = 0"
   ]
  },
  {
   "cell_type": "markdown",
   "metadata": {
    "id": "kVEc5_KNIFtC"
   },
   "source": [
    "### Visualize the found approximate fixed points.\n",
    "\n",
    "We see that they found an approximate line attrator, corresponding to our PC1, along which evidence is integrated during the stimulus period."
   ]
  },
  {
   "cell_type": "code",
   "execution_count": 12,
   "metadata": {
    "colab": {
     "base_uri": "https://localhost:8080/",
     "height": 306
    },
    "id": "YNQTkJuQIFtD",
    "outputId": "d59cefbe-4502-48d7-e74c-28eb90f59bc3"
   },
   "outputs": [
    {
     "name": "stdout",
     "output_type": "stream",
     "text": [
      "(64, 64)\n"
     ]
    },
    {
     "data": {
      "text/plain": [
       "Text(0, 0.5, 'PC 2')"
      ]
     },
     "execution_count": 12,
     "metadata": {},
     "output_type": "execute_result"
    },
    {
     "data": {
      "image/png": "[encoded data removed]",
      "text/plain": [
       "<Figure size 432x288 with 1 Axes>"
      ]
     },
     "metadata": {
      "needs_background": "light"
     },
     "output_type": "display_data"
    }
   ],
   "source": [
    "fixedpoints = hidden.detach().numpy()\n",
    "print(fixedpoints.shape)\n",
    "\n",
    "# Plot in the same space as activity\n",
    "plt.figure()\n",
    "for i in range(5):\n",
    "    activity_pc = pca.transform(activity_dict[i])\n",
    "    trial = trial_infos[i]\n",
    "    color = 'red' if trial['ground_truth'] == 0 else 'blue'\n",
    "    plt.plot(activity_pc[:, 0], activity_pc[:, 1], 'o-',\n",
    "             color=color, alpha=0.1)\n",
    "\n",
    "# Fixed points are shown in cross\n",
    "fixedpoints_pc = pca.transform(fixedpoints)\n",
    "plt.plot(fixedpoints_pc[:, 0], fixedpoints_pc[:, 1], 'x')\n",
    "\n",
    "plt.xlabel('PC 1')\n",
    "plt.ylabel('PC 2')"
   ]
  },
  {
   "cell_type": "markdown",
   "metadata": {
    "id": "M1yX37S6IFtE"
   },
   "source": [
    "### Computing the Jacobian and finding the line attractor\n",
    "\n",
    "First we will compute the Jacobian."
   ]
  },
  {
   "cell_type": "code",
   "execution_count": 13,
   "metadata": {
    "id": "ZwHv4azuIFtE"
   },
   "outputs": [],
   "source": [
    "# index of fixed point to focus on\n",
    "# choose one close to center by sorting PC1\n",
    "i_fp = np.argsort(fixedpoints[:, 0])[int(fixedpoints.shape[0]/2)]\n",
    "\n",
    "fp = torch.from_numpy(fixedpoints[i_fp])\n",
    "fp.requires_grad = True\n",
    "\n",
    "# Inputs should be the 0-coherence mean input during stimulus period\n",
    "# This will be task-specific\n",
    "input = torch.tensor([1, 0.5, 0.5], dtype=torch.float32)\n",
    "deltah = net.rnn.recurrence(input, fp) - fp\n",
    "\n",
    "# w1 = torch.randn((64,64), requires_grad = False)                                                                                         \n",
    "# new_h = w1@fp\n",
    "\n",
    "jacT = torch.zeros(hidden_size, hidden_size)\n",
    "for i in range(hidden_size):                                                                                                                     \n",
    "    output = torch.zeros(hidden_size)                                                                                                          \n",
    "    output[i] = 1.                                                                                                                     \n",
    "    jacT[:,i] = torch.autograd.grad(deltah, fp, grad_outputs=output, retain_graph=True)[0]\n",
    "    \n",
    "jac = jacT.detach().numpy().T"
   ]
  },
  {
   "cell_type": "markdown",
   "metadata": {
    "id": "HevHpJWqIFtF"
   },
   "source": [
    "Here we plot the direction of the eigenvector corresponding to the highest eigenvalue"
   ]
  },
  {
   "cell_type": "code",
   "execution_count": 14,
   "metadata": {
    "colab": {
     "base_uri": "https://localhost:8080/",
     "height": 288
    },
    "id": "8l3if3yQIFtF",
    "outputId": "f646123f-72da-4b78-ec81-b17f19c33d0a"
   },
   "outputs": [
    {
     "data": {
      "text/plain": [
       "Text(0, 0.5, 'PC 2')"
      ]
     },
     "execution_count": 14,
     "metadata": {},
     "output_type": "execute_result"
    },
    {
     "data": {
      "image/png": "[encoded data removed]",
      "text/plain": [
       "<Figure size 432x288 with 1 Axes>"
      ]
     },
     "metadata": {
      "needs_background": "light"
     },
     "output_type": "display_data"
    }
   ],
   "source": [
    "eigval, eigvec = np.linalg.eig(jac)\n",
    "vec = np.real(eigvec[:, np.argmax(eigval)])\n",
    "end_pts = np.array([+vec, -vec]) * 2\n",
    "end_pts = pca.transform(fp.detach().numpy() + end_pts)\n",
    "\n",
    "# Plot in the same space as activity\n",
    "plt.figure()\n",
    "for i in range(5):\n",
    "    activity_pc = pca.transform(activity_dict[i])\n",
    "    trial = trial_infos[i]\n",
    "    color = 'red' if trial['ground_truth'] == 0 else 'blue'\n",
    "    plt.plot(activity_pc[:, 0], activity_pc[:, 1], 'o-',\n",
    "             color=color, alpha=0.1)\n",
    "\n",
    "# Fixed points are shown in cross\n",
    "fixedpoints_pc = pca.transform(fixedpoints)\n",
    "plt.plot(fixedpoints_pc[:, 0], fixedpoints_pc[:, 1], 'x')\n",
    "\n",
    "# Line attractor\n",
    "plt.plot(end_pts[:, 0], end_pts[:, 1])\n",
    "\n",
    "plt.xlabel('PC 1')\n",
    "plt.ylabel('PC 2')"
   ]
  },
  {
   "cell_type": "code",
   "execution_count": 15,
   "metadata": {
    "colab": {
     "base_uri": "https://localhost:8080/",
     "height": 288
    },
    "id": "H7K5L4mQIFtK",
    "outputId": "2f291b03-f95c-45e8-b9f8-cc1852aa1112"
   },
   "outputs": [
    {
     "data": {
      "text/plain": [
       "Text(0, 0.5, 'Imaginary')"
      ]
     },
     "execution_count": 15,
     "metadata": {},
     "output_type": "execute_result"
    },
    {
     "data": {
      "image/png": "[encoded data removed]",
      "text/plain": [
       "<Figure size 432x288 with 1 Axes>"
      ]
     },
     "metadata": {
      "needs_background": "light"
     },
     "output_type": "display_data"
    }
   ],
   "source": [
    "# Plot distribution of eigenvalues in a 2-d real-imaginary plot\n",
    "plt.figure()\n",
    "plt.scatter(np.real(eigval), np.imag(eigval))\n",
    "plt.plot([0, 0], [-1, 1], '--')\n",
    "plt.xlabel('Real')\n",
    "plt.ylabel('Imaginary')"
   ]
  },
  {
   "cell_type": "code",
   "execution_count": 16,
   "metadata": {
    "colab": {
     "base_uri": "https://localhost:8080/"
    },
    "id": "t0HcuklzIFtL",
    "outputId": "dc8e27e9-d532-4c02-d743-f3419ece83e7"
   },
   "outputs": [
    {
     "name": "stdout",
     "output_type": "stream",
     "text": [
      "    ground_truth  coh\n",
      "0            1.0  6.4\n",
      "14           1.0  6.4\n",
      "25           1.0  6.4\n",
      "29           1.0  6.4\n",
      "33           1.0  6.4\n",
      "37           1.0  6.4\n",
      "49           1.0  6.4\n",
      "79           1.0  6.4\n",
      "83           1.0  6.4\n",
      "84           1.0  6.4\n",
      "87           1.0  6.4\n",
      "95           1.0  6.4\n"
     ]
    }
   ],
   "source": [
    "# Convert information into pandas dataframe\n",
    "import pandas as pd\n",
    "df = pd.DataFrame()\n",
    "for i in range(len(trial_infos)):\n",
    "    df = df.append(trial_infos[i], ignore_index=True)\n",
    "\n",
    "# Example selection of conditions\n",
    "print(df[(df['coh']==6.4) & (df['ground_truth']==1.0)])"
   ]
  },
  {
   "cell_type": "code",
   "execution_count": 18,
   "metadata": {
    "colab": {
     "base_uri": "https://localhost:8080/",
     "height": 197
    },
    "id": "W12CjmImIFtL",
    "outputId": "5fd62ebd-2489-426d-b404-5b529509f21b"
   },
   "outputs": [
    {
     "data": {
      "image/png": "[encoded data removed]",
      "text/plain": [
       "<Figure size 216x216 with 1 Axes>"
      ]
     },
     "metadata": {
      "needs_background": "light"
     },
     "output_type": "display_data"
    }
   ],
   "source": [
    "plot_fp = False\n",
    "\n",
    "# Plot in the same space as activity\n",
    "fig = plt.figure(figsize=(3, 3))\n",
    "ax = fig.add_axes([0.2, 0.2, 0.6, 0.6])\n",
    "\n",
    "colors = np.array([[27,158,119], [117,112,179], [217,95,2]])/255.\n",
    "\n",
    "# Search for two trials with similar conditions\n",
    "cohs = np.unique(df['coh'])\n",
    "cohs = [c for c in cohs if c > 0]  # remove 0\n",
    "\n",
    "color_intensity = [0.4, 0.7, 1.0, 1.3]\n",
    "\n",
    "for ground_truth in [0, 1]:\n",
    "    if ground_truth == 0:\n",
    "        cohs_ = cohs[::-1]\n",
    "        color_intensity_ = color_intensity[::-1]\n",
    "    else:\n",
    "        cohs_ = cohs\n",
    "        color_intensity_ = color_intensity\n",
    "    for i_coh, coh in enumerate(cohs_):\n",
    "        if plot_fp and coh != cohs[2]:\n",
    "            continue\n",
    "        trials = df[(df['coh']==coh) & (df['ground_truth']==ground_truth)].index\n",
    "        activity = np.mean(np.array([activity_dict[i] for i in trials]), axis=0)\n",
    "\n",
    "        activity_pc = pca.transform(activity)\n",
    "        color = colors[0] if ground_truth == 0 else colors[1]\n",
    "        color = color * color_intensity_[i_coh]\n",
    "        signed_coh = coh * (2*ground_truth - 1)\n",
    "        label = '{:0.1f}'.format(signed_coh)\n",
    "        plt.plot(activity_pc[:, 0], activity_pc[:, 1], 'o-',\n",
    "                 color=color, ms=3, markeredgecolor='none',\n",
    "                 lw=1, label=label)\n",
    "\n",
    "\n",
    "if plot_fp:\n",
    "    # Fixed points are shown in cross\n",
    "    color = colors[2]\n",
    "    fixedpoints_pc = pca.transform(fixedpoints)\n",
    "    plt.plot(fixedpoints_pc[:, 0], fixedpoints_pc[:, 1], 'x', ms=3, color=color, alpha=0.3)\n",
    "\n",
    "    # Line attractor\n",
    "    plt.plot(fixedpoints_pc[i_fp, 0], fixedpoints_pc[i_fp, 1], 'x', ms=5, color=color, lw=1)\n",
    "    plt.plot(end_pts[:, 0], end_pts[:, 1], color=color)\n",
    "else:\n",
    "    ax.legend(title='Coh', loc='upper left', bbox_to_anchor=(1.0, 1.0), frameon=False)\n",
    "\n",
    "\n",
    "plt.xlabel('PC 1', fontsize=7)\n",
    "plt.ylabel('PC 2', fontsize=7)\n",
    "\n",
    "plt.xlim([-5, 5])\n",
    "plt.ylim([-1, 5])\n",
    "\n",
    "# Beautification\n",
    "ax.spines['top'].set_visible(False)\n",
    "ax.spines['right'].set_visible(False)\n",
    "ax.spines['left'].set_position(('data', -5))\n",
    "ax.spines['bottom'].set_position(('data', -1.5))\n",
    "\n"
   ]
  },
  {
   "cell_type": "code",
   "execution_count": null,
   "metadata": {
    "id": "Ig113Z4zIFtL"
   },
   "outputs": [],
   "source": []
  }
 ],
 "metadata": {
  "colab": {
   "name": "RNN+DynamicalSystemAnalysis.ipynb",
   "provenance": []
  },
  "kernelspec": {
   "display_name": "Python 3 (ipykernel)",
   "language": "python",
   "name": "python3"
  },
  "language_info": {
   "codemirror_mode": {
    "name": "ipython",
    "version": 3
   },
   "file_extension": ".py",
   "mimetype": "text/x-python",
   "name": "python",
   "nbconvert_exporter": "python",
   "pygments_lexer": "ipython3",
   "version": "3.9.7"
  }
 },
 "nbformat": 4,
 "nbformat_minor": 4
}
